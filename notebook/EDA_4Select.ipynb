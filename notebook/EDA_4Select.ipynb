{
 "cells": [
  {
   "cell_type": "code",
   "execution_count": 33,
   "metadata": {},
   "outputs": [],
   "source": [
    "import zipfile\n",
    "import pandas as pd\n",
    "import numpy as np\n",
    "import re\n",
    "import glob\n",
    "import json\n",
    "import copy\n",
    "import os\n",
    "\n",
    "from torchvision.transforms.functional import to_pil_image\n",
    "import matplotlib.patches as patches\n",
    "import matplotlib.pyplot as plt\n",
    "from PIL import Image"
   ]
  },
  {
   "cell_type": "code",
   "execution_count": 69,
   "metadata": {},
   "outputs": [],
   "source": [
    "images = []\n",
    "annotations = []\n",
    "\n",
    "## 처음 json파일 압축 해제시에만 사용 \n",
    "# zip_list = sorted(glob.glob('/opt/ml/input/annotations_zip/*'))\n",
    "# for i in zip_list:\n",
    "#    zipfile.ZipFile(i).extractall('/opt/ml/input/annotations')\n",
    "\n",
    "image_id = 0\n",
    "ann_id = 0\n",
    "json_list = sorted(glob.glob('/opt/ml/input/annotations/*'))\n",
    "ann = []\n",
    "for zip_path in json_list:\n",
    "    ann_count = 0\n",
    "    with open(zip_path, 'r') as f:\n",
    "        data = json.load(f)\n",
    "        \n",
    "    for j in  data['annotations']:\n",
    "        if j['category_id'] in [3, 4, 5, 6, 7, 8]:\n",
    "            ann_count += 1\n",
    "            j['id'] = ann_id\n",
    "            j['image_id'] = image_id\n",
    "            annotations.append(j)\n",
    "            ann_id += 1\n",
    "        else:\n",
    "            continue\n",
    "    if ann_count != 0:\n",
    "        data['images']['id'] = image_id\n",
    "        images.append(data['images'])\n",
    "        image_id += 1\n"
   ]
  },
  {
   "cell_type": "code",
   "execution_count": 70,
   "metadata": {},
   "outputs": [],
   "source": [
    "data = {\n",
    "    \"images\" : images,\n",
    "    \"annotations\" : annotations,\n",
    "    \"categories\" : data[\"categories\"]\n",
    "}"
   ]
  },
  {
   "cell_type": "code",
   "execution_count": 71,
   "metadata": {},
   "outputs": [],
   "source": [
    "with open('/opt/ml/test_json/newfile.json', 'w') as file:\n",
    "    json.dump(data, file, indent = '\\t')\n"
   ]
  },
  {
   "cell_type": "code",
   "execution_count": null,
   "metadata": {},
   "outputs": [],
   "source": []
  }
 ],
 "metadata": {
  "kernelspec": {
   "display_name": "base",
   "language": "python",
   "name": "python3"
  },
  "language_info": {
   "codemirror_mode": {
    "name": "ipython",
    "version": 3
   },
   "file_extension": ".py",
   "mimetype": "text/x-python",
   "name": "python",
   "nbconvert_exporter": "python",
   "pygments_lexer": "ipython3",
   "version": "3.8.5"
  },
  "orig_nbformat": 4,
  "vscode": {
   "interpreter": {
    "hash": "d4d1e4263499bec80672ea0156c357c1ee493ec2b1c70f0acce89fc37c4a6abe"
   }
  }
 },
 "nbformat": 4,
 "nbformat_minor": 2
}
