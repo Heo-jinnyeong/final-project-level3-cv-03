{
 "cells": [
  {
   "cell_type": "code",
   "execution_count": 7,
   "metadata": {},
   "outputs": [],
   "source": [
    "# 데이터로더 생성을 위한 라이브러리 불러오기\n",
    "from mmcv.utils import Config\n",
    "from mmdet.datasets import build_dataset, build_dataloader\n",
    "import matplotlib.pyplot as plt\n",
    "import matplotlib.patches as patches\n",
    "import torch"
   ]
  },
  {
   "cell_type": "code",
   "execution_count": null,
   "metadata": {},
   "outputs": [],
   "source": [
    "# ver.train\n",
    "config_file = '/opt/ml/final-project-level3-cv-03/script/retinanet_adamw_albu.py'\n",
    "how_much = 100\n",
    "\n",
    "cfg = Config.fromfile(config_file)\n",
    "datasets = build_dataset(cfg.data.train)\n",
    "\n",
    "# 초기 n개 이미지를 box와 함께 관찰\n",
    "fig = plt.figure(figsize=(16, 8*(how_much/2)))\n",
    "for idx, val in enumerate(datasets):\n",
    "    ax1 = fig.add_subplot(how_much, 2, 2*idx+1)\n",
    "    img = val['img']._data.permute(1, 2, 0)\n",
    "    img_rgb = torch.stack([img[:, :, 2], img[:, :, 1], img[:, :, 0]], dim=2)\n",
    "    \n",
    "    min_x, min_y, max_x, max_y = val['gt_bboxes']._data[0]\n",
    "    width, height = max_x - min_x, max_y - min_y\n",
    "    ax1.add_patch(patches.Rectangle((min_x, min_y), width, height,\n",
    "                                    edgecolor = 'red', fill=False))\n",
    "    \n",
    "    ax1.imshow(img_rgb)\n",
    "    if idx == how_much-1:\n",
    "        break\n",
    "\n",
    "plt.show()"
   ]
  },
  {
   "cell_type": "code",
   "execution_count": null,
   "metadata": {},
   "outputs": [],
   "source": []
  }
 ],
 "metadata": {
  "kernelspec": {
   "display_name": "base",
   "language": "python",
   "name": "python3"
  },
  "language_info": {
   "codemirror_mode": {
    "name": "ipython",
    "version": 3
   },
   "file_extension": ".py",
   "mimetype": "text/x-python",
   "name": "python",
   "nbconvert_exporter": "python",
   "pygments_lexer": "ipython3",
   "version": "3.8.5"
  },
  "orig_nbformat": 4,
  "vscode": {
   "interpreter": {
    "hash": "d4d1e4263499bec80672ea0156c357c1ee493ec2b1c70f0acce89fc37c4a6abe"
   }
  }
 },
 "nbformat": 4,
 "nbformat_minor": 2
}
