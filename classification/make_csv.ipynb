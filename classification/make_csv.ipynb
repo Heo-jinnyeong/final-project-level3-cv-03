{
 "cells": [
  {
   "cell_type": "code",
   "execution_count": 1,
   "metadata": {},
   "outputs": [],
   "source": [
    "import os\n",
    "import pandas as pd\n",
    "import csv"
   ]
  },
  {
   "attachments": {},
   "cell_type": "markdown",
   "metadata": {},
   "source": [
    "# <H3>USAGE\n",
    "\n",
    "1. img_data 폴더 생성\n",
    "2. 이진 분류를 위해 각 카데고리 폴더 생성\n",
    "3. CSV 저장을 위한 경로 설정 후 실행"
   ]
  },
  {
   "cell_type": "code",
   "execution_count": 2,
   "metadata": {},
   "outputs": [],
   "source": [
    "pothole_dir = '/opt/ml/img_data/pothole/'\n",
    "no_pothole_dir = '/opt/ml/img_data/nopothole/'\n",
    "\n",
    "pothole_filepaths = sorted(os.path.join(pothole_dir, f) for f in os.listdir(pothole_dir))\n",
    "no_pothole_filepaths = sorted(os.path.join(no_pothole_dir, f) for f in os.listdir(no_pothole_dir))\n",
    "\n",
    "data = pd.DataFrame({\"filepath\":[],\"info\":[]})\n",
    "data['filepath'] = pothole_filepaths\n",
    "data['info'] = 1\n",
    "\n",
    "data2 = pd.DataFrame({\"filepath\":[],\"info\":[]})\n",
    "data2['filepath'] = no_pothole_filepaths\n",
    "data2['info'] = 0\n",
    "\n",
    "data_df = pd.concat([data,data2],ignore_index=True)\n",
    "\n",
    "data_df.to_csv(\"/opt/ml/data_csv/data.csv\",sep=',')"
   ]
  },
  {
   "cell_type": "code",
   "execution_count": null,
   "metadata": {},
   "outputs": [],
   "source": []
  }
 ],
 "metadata": {
  "kernelspec": {
   "display_name": "base",
   "language": "python",
   "name": "python3"
  },
  "language_info": {
   "codemirror_mode": {
    "name": "ipython",
    "version": 3
   },
   "file_extension": ".py",
   "mimetype": "text/x-python",
   "name": "python",
   "nbconvert_exporter": "python",
   "pygments_lexer": "ipython3",
   "version": "3.8.5 (default, Sep  4 2020, 07:30:14) \n[GCC 7.3.0]"
  },
  "orig_nbformat": 4,
  "vscode": {
   "interpreter": {
    "hash": "d4d1e4263499bec80672ea0156c357c1ee493ec2b1c70f0acce89fc37c4a6abe"
   }
  }
 },
 "nbformat": 4,
 "nbformat_minor": 2
}
